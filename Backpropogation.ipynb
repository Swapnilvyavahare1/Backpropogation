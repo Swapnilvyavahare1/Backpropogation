{
  "nbformat": 4,
  "nbformat_minor": 0,
  "metadata": {
    "colab": {
      "provenance": []
    },
    "kernelspec": {
      "name": "python3",
      "display_name": "Python 3"
    },
    "language_info": {
      "name": "python"
    }
  },
  "cells": [
    {
      "cell_type": "code",
      "execution_count": 1,
      "metadata": {
        "colab": {
          "base_uri": "https://localhost:8080/"
        },
        "id": "xIQzS2arGWbh",
        "outputId": "7d817b82-bd5b-4bda-d1c5-725585e6ba1d"
      },
      "outputs": [
        {
          "output_type": "stream",
          "name": "stdout",
          "text": [
            "Epoch: 0, Loss: 0.2717851400375366\n",
            "Epoch: 100, Loss: 0.25109225511550903\n",
            "Epoch: 200, Loss: 0.24732685089111328\n",
            "Epoch: 300, Loss: 0.2446596622467041\n",
            "Epoch: 400, Loss: 0.2413143813610077\n",
            "Epoch: 500, Loss: 0.2361949384212494\n",
            "Epoch: 600, Loss: 0.22812655568122864\n",
            "Epoch: 700, Loss: 0.21588949859142303\n",
            "Epoch: 800, Loss: 0.198604017496109\n",
            "Epoch: 900, Loss: 0.17605900764465332\n",
            "Test Outputs:\n",
            "tf.Tensor(\n",
            "[[0.2817196 ]\n",
            " [0.6042261 ]\n",
            " [0.63491035]\n",
            " [0.47556233]], shape=(4, 1), dtype=float32)\n"
          ]
        }
      ],
      "source": [
        "# Using class\n",
        "import tensorflow as tf\n",
        "\n",
        "# Define a simple neural network architecture\n",
        "class Net(tf.keras.Model):\n",
        "    def __init__(self):\n",
        "        super(Net, self).__init__()\n",
        "        self.fc1 = tf.keras.layers.Dense(5, activation='sigmoid')  # Fully connected layer 1\n",
        "        self.fc2 = tf.keras.layers.Dense(1)  # Fully connected layer 2\n",
        "\n",
        "    def call(self, inputs):\n",
        "        x = self.fc1(inputs)  # Apply sigmoid activation to first layer\n",
        "        x = self.fc2(x)  # Second layer\n",
        "        return x\n",
        "\n",
        "# Create the network\n",
        "net = Net()\n",
        "\n",
        "# Define the loss function\n",
        "loss_fn = tf.keras.losses.MeanSquaredError()\n",
        "\n",
        "# Define the optimizer\n",
        "optimizer = tf.keras.optimizers.SGD(learning_rate=0.1)\n",
        "\n",
        "# Generate some sample data\n",
        "inputs = tf.constant([[0, 0], [0, 1], [1, 0], [1, 1]], dtype=tf.float32)\n",
        "labels = tf.constant([[0], [1], [1], [0]], dtype=tf.float32)\n",
        "\n",
        "# Training loop\n",
        "for epoch in range(1000):\n",
        "    with tf.GradientTape() as tape:\n",
        "        # Forward pass\n",
        "        outputs = net(inputs)\n",
        "        # Compute the loss\n",
        "        loss = loss_fn(labels, outputs)\n",
        "\n",
        "    # Compute gradients\n",
        "    gradients = tape.gradient(loss, net.trainable_variables)\n",
        "    \n",
        "    # Update the weights\n",
        "    optimizer.apply_gradients(zip(gradients, net.trainable_variables))\n",
        "\n",
        "    if epoch % 100 == 0:\n",
        "        print(f\"Epoch: {epoch}, Loss: {loss.numpy()}\")\n",
        "\n",
        "# Test the trained network\n",
        "test_outputs = net(inputs)\n",
        "print(\"Test Outputs:\")\n",
        "print(test_outputs)"
      ]
    },
    {
      "cell_type": "code",
      "source": [
        "# Without using class\n",
        "import tensorflow as tf\n",
        "\n",
        "# Define a simple neural network architecture\n",
        "def create_model():\n",
        "    model = tf.keras.Sequential([\n",
        "        tf.keras.layers.Dense(5, activation='sigmoid', input_shape=(2,)),  # Fully connected layer 1\n",
        "        tf.keras.layers.Dense(1)  # Fully connected layer 2\n",
        "    ])\n",
        "    return model\n",
        "\n",
        "# Create the network\n",
        "net = create_model()\n",
        "\n",
        "# Define the loss function\n",
        "loss_fn = tf.keras.losses.MeanSquaredError()\n",
        "\n",
        "# Define the optimizer\n",
        "optimizer = tf.keras.optimizers.SGD(learning_rate=0.1)\n",
        "\n",
        "# Generate some sample data\n",
        "inputs = tf.constant([[0, 0], [0, 1], [1, 0], [1, 1]], dtype=tf.float32)\n",
        "labels = tf.constant([[0], [1], [1], [0]], dtype=tf.float32)\n",
        "\n",
        "# Training loop\n",
        "for epoch in range(1000):\n",
        "    with tf.GradientTape() as tape:\n",
        "        # Forward pass\n",
        "        outputs = net(inputs)\n",
        "        # Compute the loss\n",
        "        loss = loss_fn(labels, outputs)\n",
        "\n",
        "    # Compute gradients\n",
        "    gradients = tape.gradient(loss, net.trainable_variables)\n",
        "    \n",
        "    # Update the weights\n",
        "    optimizer.apply_gradients(zip(gradients, net.trainable_variables))\n",
        "\n",
        "    if epoch % 100 == 0:\n",
        "        print(f\"Epoch: {epoch}, Loss: {loss.numpy()}\")\n",
        "\n",
        "# Test the trained network\n",
        "test_outputs = net(inputs)\n",
        "print(\"Test Outputs:\")\n",
        "print(test_outputs)"
      ],
      "metadata": {
        "colab": {
          "base_uri": "https://localhost:8080/"
        },
        "id": "zIH2j_zdHS0u",
        "outputId": "df9a6a4c-eece-496a-cf15-92583a96286e"
      },
      "execution_count": 2,
      "outputs": [
        {
          "output_type": "stream",
          "name": "stdout",
          "text": [
            "Epoch: 0, Loss: 0.3803437054157257\n",
            "Epoch: 100, Loss: 0.25270259380340576\n",
            "Epoch: 200, Loss: 0.2509244680404663\n",
            "Epoch: 300, Loss: 0.2498834878206253\n",
            "Epoch: 400, Loss: 0.24903662502765656\n",
            "Epoch: 500, Loss: 0.2482006996870041\n",
            "Epoch: 600, Loss: 0.24725991487503052\n",
            "Epoch: 700, Loss: 0.2460891306400299\n",
            "Epoch: 800, Loss: 0.2445124387741089\n",
            "Epoch: 900, Loss: 0.2422533631324768\n",
            "Test Outputs:\n",
            "tf.Tensor(\n",
            "[[0.4742842]\n",
            " [0.5400604]\n",
            " [0.4872944]\n",
            " [0.5060488]], shape=(4, 1), dtype=float32)\n"
          ]
        }
      ]
    }
  ]
}